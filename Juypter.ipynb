{
  "metadata": {
    "language_info": {
      "codemirror_mode": {
        "name": "python",
        "version": 3
      },
      "file_extension": ".py",
      "mimetype": "text/x-python",
      "name": "python",
      "nbconvert_exporter": "python",
      "pygments_lexer": "ipython3",
      "version": "3.8"
    },
    "kernelspec": {
      "name": "python",
      "display_name": "Python (Pyodide)",
      "language": "python"
    }
  },
  "nbformat_minor": 4,
  "nbformat": 4,
  "cells": [
    {
      "cell_type": "code",
      "source": "import numpy as np\n\n# Creating NumPy arrays\narr1 = np.array([1, 2, 3, 4, 5])\narr2 = np.array([[1, 2, 3], [4, 5, 6]])\n\n# Basic operations\narr3 = arr1 + 10  # Add 10 to each element\narr4 = arr1 * 2   # Multiply each element by 2\n\n# Array shape and dimensions\nshape = arr2.shape  # Get the shape (rows, columns) of arr2\ndim = arr2.ndim     # Get the number of dimensions of arr2\n\n# Indexing and slicing\nelement = arr1[2]            # Get the third element (index 2)\nslice_of_arr1 = arr1[1:4]    # Get a slice from index 1 to 3\nrow = arr2[1]                # Get the second row of arr2\nelement_from_row = arr2[1, 2]  # Get an element from the second row and third column\n\n# Reshaping\narr5 = arr1.reshape(5, 1)  # Reshape arr1 into a column vector\n\n# Element-wise operations\narr6 = np.array([2, 4, 6, 8, 10])\nsum_arr = arr1 + arr6  # Element-wise addition\nproduct_arr = arr1 * arr6  # Element-wise multiplication\n\n# Statistics\nmean_value = np.mean(arr1)  # Calculate the mean\nmax_value = np.max(arr1)    # Find the maximum value\nmin_value = np.min(arr1)    # Find the minimum value\n\n# Matrix operations\nmatrix1 = np.array([[1, 2], [3, 4]])\nmatrix2 = np.array([[5, 6], [7, 8]])\nproduct_matrix = np.dot(matrix1, matrix2)  # Matrix multiplication\n\n# Random numbers\nrandom_arr = np.random.rand(3, 3)  # Generate a 3x3 array of random numbers between 0 and 1\n\n# Boolean indexing\ngreater_than_3 = arr1[arr1 > 3]  # Get elements greater than 3\n\n# Broadcasting\narr7 = np.array([1, 2, 3])\nresult_arr = arr7 + 5  # Broadcasting 5 to each element\n\n# Stacking arrays\nstacked_arr = np.vstack((arr1, arr6))  # Vertically stack two arrays\n\n# Iterating through arrays\nfor element in arr1:\n    print(element)\n\n# More advanced operations like FFT, linear algebra, etc., are also possible with NumPy.\n\n",
      "metadata": {
        "trusted": true
      },
      "execution_count": 2,
      "outputs": [
        {
          "name": "stdout",
          "text": "1\n2\n3\n4\n5\n",
          "output_type": "stream"
        }
      ]
    },
    {
      "cell_type": "code",
      "source": "",
      "metadata": {},
      "execution_count": null,
      "outputs": []
    }
  ]
}